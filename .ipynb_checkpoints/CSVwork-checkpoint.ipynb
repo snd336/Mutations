{
 "cells": [
  {
   "cell_type": "code",
   "execution_count": 1,
   "metadata": {},
   "outputs": [],
   "source": [
    "import pandas as pd\n",
    "import matplotlib.pyplot as plt\n",
    "import matplotlib\n",
    "import numpy as np\n",
    "import seaborn as sns\n",
    "import os.path\n",
    "import ast"
   ]
  },
  {
   "cell_type": "code",
   "execution_count": 2,
   "metadata": {},
   "outputs": [],
   "source": [
    "matplotlib.rcParams['figure.figsize'] = (12, 10) "
   ]
  },
  {
   "cell_type": "markdown",
   "metadata": {},
   "source": [
    "## Introduction"
   ]
  },
  {
   "cell_type": "markdown",
   "metadata": {},
   "source": []
  },
  {
   "cell_type": "markdown",
   "metadata": {},
   "source": [
    "## Data Exploration"
   ]
  },
  {
   "cell_type": "code",
   "execution_count": 5,
   "metadata": {},
   "outputs": [],
   "source": [
    "data_file = 'data.csv'\n",
    "\n",
    "if not os.path.exists(data_file):\n",
    "    print('Cannot find data')\n",
    "    "
   ]
  },
  {
   "cell_type": "code",
   "execution_count": 6,
   "metadata": {},
   "outputs": [],
   "source": [
    "df = pd.read_csv('data.csv', sep=',', header=0)"
   ]
  },
  {
   "cell_type": "code",
   "execution_count": 7,
   "metadata": {},
   "outputs": [
    {
     "data": {
      "text/html": [
       "<div>\n",
       "<style scoped>\n",
       "    .dataframe tbody tr th:only-of-type {\n",
       "        vertical-align: middle;\n",
       "    }\n",
       "\n",
       "    .dataframe tbody tr th {\n",
       "        vertical-align: top;\n",
       "    }\n",
       "\n",
       "    .dataframe thead th {\n",
       "        text-align: right;\n",
       "    }\n",
       "</style>\n",
       "<table border=\"1\" class=\"dataframe\">\n",
       "  <thead>\n",
       "    <tr style=\"text-align: right;\">\n",
       "      <th></th>\n",
       "      <th>source_file</th>\n",
       "      <th>lineno</th>\n",
       "      <th>ast_depth</th>\n",
       "      <th>num_test_cover</th>\n",
       "      <th>num_executed</th>\n",
       "      <th>num_assert_tm</th>\n",
       "      <th>num_assert_tc</th>\n",
       "      <th>mutant_operator_type</th>\n",
       "      <th>function_max_depth</th>\n",
       "      <th>function_avg_depth</th>\n",
       "      <th>class_max_depth</th>\n",
       "      <th>lineno_loc</th>\n",
       "      <th>loc_list</th>\n",
       "      <th>mutation_number</th>\n",
       "      <th>status</th>\n",
       "    </tr>\n",
       "  </thead>\n",
       "  <tbody>\n",
       "    <tr>\n",
       "      <th>0</th>\n",
       "      <td>src/calculator.py</td>\n",
       "      <td>3</td>\n",
       "      <td>3</td>\n",
       "      <td>2</td>\n",
       "      <td>4</td>\n",
       "      <td>3</td>\n",
       "      <td>20</td>\n",
       "      <td>AOD</td>\n",
       "      <td>10</td>\n",
       "      <td>8.5</td>\n",
       "      <td>10</td>\n",
       "      <td>5</td>\n",
       "      <td>['8:14', '16:17']</td>\n",
       "      <td>1</td>\n",
       "      <td>killed</td>\n",
       "    </tr>\n",
       "    <tr>\n",
       "      <th>1</th>\n",
       "      <td>src/calculator.py</td>\n",
       "      <td>3</td>\n",
       "      <td>4</td>\n",
       "      <td>2</td>\n",
       "      <td>4</td>\n",
       "      <td>3</td>\n",
       "      <td>20</td>\n",
       "      <td>AOR</td>\n",
       "      <td>10</td>\n",
       "      <td>8.5</td>\n",
       "      <td>10</td>\n",
       "      <td>5</td>\n",
       "      <td>['8:14', '16:17']</td>\n",
       "      <td>2</td>\n",
       "      <td>killed</td>\n",
       "    </tr>\n",
       "    <tr>\n",
       "      <th>2</th>\n",
       "      <td>src/calculator.py</td>\n",
       "      <td>7</td>\n",
       "      <td>5</td>\n",
       "      <td>1</td>\n",
       "      <td>1</td>\n",
       "      <td>1</td>\n",
       "      <td>20</td>\n",
       "      <td>AOR</td>\n",
       "      <td>7</td>\n",
       "      <td>7.0</td>\n",
       "      <td>10</td>\n",
       "      <td>0</td>\n",
       "      <td>['20:21']</td>\n",
       "      <td>3</td>\n",
       "      <td>killed</td>\n",
       "    </tr>\n",
       "    <tr>\n",
       "      <th>3</th>\n",
       "      <td>src/calculator.py</td>\n",
       "      <td>7</td>\n",
       "      <td>5</td>\n",
       "      <td>1</td>\n",
       "      <td>1</td>\n",
       "      <td>1</td>\n",
       "      <td>20</td>\n",
       "      <td>AOR</td>\n",
       "      <td>7</td>\n",
       "      <td>7.0</td>\n",
       "      <td>10</td>\n",
       "      <td>0</td>\n",
       "      <td>['20:21']</td>\n",
       "      <td>4</td>\n",
       "      <td>killed</td>\n",
       "    </tr>\n",
       "    <tr>\n",
       "      <th>4</th>\n",
       "      <td>src/calculator.py</td>\n",
       "      <td>7</td>\n",
       "      <td>5</td>\n",
       "      <td>1</td>\n",
       "      <td>1</td>\n",
       "      <td>1</td>\n",
       "      <td>20</td>\n",
       "      <td>AOR</td>\n",
       "      <td>7</td>\n",
       "      <td>7.0</td>\n",
       "      <td>10</td>\n",
       "      <td>0</td>\n",
       "      <td>['20:21']</td>\n",
       "      <td>5</td>\n",
       "      <td>survived</td>\n",
       "    </tr>\n",
       "  </tbody>\n",
       "</table>\n",
       "</div>"
      ],
      "text/plain": [
       "         source_file  lineno  ast_depth  num_test_cover  num_executed  \\\n",
       "0  src/calculator.py       3          3               2             4   \n",
       "1  src/calculator.py       3          4               2             4   \n",
       "2  src/calculator.py       7          5               1             1   \n",
       "3  src/calculator.py       7          5               1             1   \n",
       "4  src/calculator.py       7          5               1             1   \n",
       "\n",
       "   num_assert_tm  num_assert_tc mutant_operator_type  function_max_depth  \\\n",
       "0              3             20                  AOD                  10   \n",
       "1              3             20                  AOR                  10   \n",
       "2              1             20                  AOR                   7   \n",
       "3              1             20                  AOR                   7   \n",
       "4              1             20                  AOR                   7   \n",
       "\n",
       "   function_avg_depth  class_max_depth  lineno_loc           loc_list  \\\n",
       "0                 8.5               10           5  ['8:14', '16:17']   \n",
       "1                 8.5               10           5  ['8:14', '16:17']   \n",
       "2                 7.0               10           0          ['20:21']   \n",
       "3                 7.0               10           0          ['20:21']   \n",
       "4                 7.0               10           0          ['20:21']   \n",
       "\n",
       "   mutation_number    status  \n",
       "0                1    killed  \n",
       "1                2    killed  \n",
       "2                3    killed  \n",
       "3                4    killed  \n",
       "4                5  survived  "
      ]
     },
     "execution_count": 7,
     "metadata": {},
     "output_type": "execute_result"
    }
   ],
   "source": [
    "df.head()"
   ]
  },
  {
   "cell_type": "code",
   "execution_count": null,
   "metadata": {},
   "outputs": [],
   "source": [
    "df"
   ]
  },
  {
   "cell_type": "markdown",
   "metadata": {},
   "source": [
    "## Data Cleaning"
   ]
  },
  {
   "cell_type": "code",
   "execution_count": null,
   "metadata": {},
   "outputs": [],
   "source": [
    "df.isnull().values.any()"
   ]
  },
  {
   "cell_type": "code",
   "execution_count": null,
   "metadata": {},
   "outputs": [],
   "source": [
    "X = df.drop(labels=['status','mutation_number', 'loc_list'], axis=1)\n",
    "y = df[['status']]\n",
    "use_for_semantic_analysi\n"
   ]
  },
  {
   "cell_type": "code",
   "execution_count": null,
   "metadata": {},
   "outputs": [],
   "source": [
    "X[0:5]"
   ]
  },
  {
   "cell_type": "code",
   "execution_count": null,
   "metadata": {},
   "outputs": [],
   "source": [
    "y[0:5]"
   ]
  },
  {
   "cell_type": "code",
   "execution_count": null,
   "metadata": {},
   "outputs": [],
   "source": []
  },
  {
   "cell_type": "code",
   "execution_count": null,
   "metadata": {},
   "outputs": [],
   "source": []
  }
 ],
 "metadata": {
  "kernelspec": {
   "display_name": "Python 3",
   "language": "python",
   "name": "python3"
  },
  "language_info": {
   "codemirror_mode": {
    "name": "ipython",
    "version": 3
   },
   "file_extension": ".py",
   "mimetype": "text/x-python",
   "name": "python",
   "nbconvert_exporter": "python",
   "pygments_lexer": "ipython3",
   "version": "3.7.5"
  }
 },
 "nbformat": 4,
 "nbformat_minor": 2
}
